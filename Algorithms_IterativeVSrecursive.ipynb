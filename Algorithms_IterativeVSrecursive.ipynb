{
 "cells": [
  {
   "cell_type": "code",
   "execution_count": 69,
   "id": "cd9ae69f",
   "metadata": {},
   "outputs": [
    {
     "name": "stdout",
     "output_type": "stream",
     "text": [
      "0.125\n",
      "Running time is :0.001001596450805664\n"
     ]
    }
   ],
   "source": [
    "import time\n",
    "#power iterative\n",
    "start=time.time()\n",
    "def power_iter(num,exponent):\n",
    "    result=1\n",
    "    if exponent==0:\n",
    "        return 1\n",
    "    elif exponent<0:\n",
    "        exponent=-exponent\n",
    "        while(exponent>=1):\n",
    "            result*=num\n",
    "            exponent-=1\n",
    "        return 1/result\n",
    "        \n",
    "    else:\n",
    "        while(exponent>=1):\n",
    "            result*=num\n",
    "            exponent-=1\n",
    "        return result\n",
    "print(power_iter(2,-3))\n",
    "print(\"Running time is :\"+str(time.time()-start))\n",
    "\n"
   ]
  },
  {
   "cell_type": "code",
   "execution_count": 95,
   "id": "e5b4699c",
   "metadata": {},
   "outputs": [
    {
     "name": "stdout",
     "output_type": "stream",
     "text": [
      "hi\n",
      "0.25\n",
      "Running time is :0.001997232437133789\n"
     ]
    }
   ],
   "source": [
    "#power recursive\n",
    "\n",
    "start1=time.time()\n",
    "def power_rec(num,exponent):\n",
    "    if exponent==0:\n",
    "        return 1\n",
    "    if exponent<0:\n",
    "        exponent=exponent*-1\n",
    "        return power_rec(1/num,exponent-1)*1/num\n",
    "    else:\n",
    "        return power_rec(num,exponent-1)*num\n",
    "    \n",
    "print(power_rec(2,-2))\n",
    "print(\"Running time is :\"+str(time.time()-start1))"
   ]
  },
  {
   "cell_type": "code",
   "execution_count": 67,
   "id": "12216b68",
   "metadata": {},
   "outputs": [
    {
     "name": "stdout",
     "output_type": "stream",
     "text": [
      "Element found at position index 3\n",
      "Running time is :0.0009987354278564453\n"
     ]
    }
   ],
   "source": [
    "#BS iter\n",
    "start=time.time()\n",
    "def BS_iter(arr,num):\n",
    "    low=mid=0\n",
    "    high=len(arr)-1\n",
    "    #loop on the array\n",
    "    while low<=high:\n",
    "        mid=high+low//2\n",
    "        if num==arr[mid]:\n",
    "            return mid\n",
    "        elif num<arr[mid]: #search left\n",
    "            high=mid-1\n",
    "        else:\n",
    "            low=mid+1\n",
    "    return -1\n",
    "arr=[1,2,5,6,8,50]\n",
    "num=6\n",
    "res=BS_iter(arr,num)\n",
    "\n",
    "if res==-1:\n",
    "    print(\"not found\")\n",
    "else:\n",
    "    print(f\"Element found at position index {res}\")\n",
    "\n",
    "print(\"Running time is :\"+str(time.time()-start))\n"
   ]
  },
  {
   "cell_type": "code",
   "execution_count": 70,
   "id": "974d6382",
   "metadata": {},
   "outputs": [
    {
     "name": "stdout",
     "output_type": "stream",
     "text": [
      "Element found at position index 3\n",
      "Running time is :0.0020003318786621094\n"
     ]
    }
   ],
   "source": [
    "#Binary Search rec\n",
    "start=time.time()\n",
    "def BS(arr,low,high,num):\n",
    "    #check there is an array\n",
    "    if high>=low:  #check there is at least 1 element\n",
    "        mid=high+low//2 #return a whole no\n",
    "        if num==arr[mid]: #if no found at middle\n",
    "            return mid\n",
    "        elif num<arr[mid]: #search left\n",
    "            return BS(arr,low,mid-1,num)\n",
    "        else: #num>arr[mid],search right\n",
    "            return BS(arr,mid+1,high,num)\n",
    "    else:#no elements found\n",
    "        return -1\n",
    "\n",
    "arr=[1,2,5,6,8,50]\n",
    "num=6\n",
    "res=BS(arr,0,5,num)\n",
    "if res==-1:\n",
    "    print(\"not found\")\n",
    "else:\n",
    "    print(f\"Element found at position index {res}\")\n",
    "    \n",
    "\n",
    "print(\"Running time is :\"+str(time.time()-start))\n"
   ]
  },
  {
   "cell_type": "code",
   "execution_count": null,
   "id": "ae96d1c1",
   "metadata": {},
   "outputs": [],
   "source": [
    "#karatsuba\n"
   ]
  },
  {
   "cell_type": "code",
   "execution_count": 85,
   "id": "9eba3306",
   "metadata": {},
   "outputs": [
    {
     "name": "stdout",
     "output_type": "stream",
     "text": [
      "[2, 10, 13, 21, 70, 90]\n"
     ]
    }
   ],
   "source": [
    "#partitioning func\n",
    "def partitioning(arr,start,end):\n",
    "    pivot=arr[start]\n",
    "    low=start+1\n",
    "    high=end\n",
    "    while high>low: #while not done\n",
    "        while arr[low]<pivot: #move next right\n",
    "            low+=1\n",
    "        while arr[high]>pivot:#move to next left\n",
    "            high-=1\n",
    "        if high>low: #check stop points to swap\n",
    "            arr[low],arr[high]=arr[high],arr[low]\n",
    "            low+=1\n",
    "            high-=1\n",
    "    \n",
    "    arr[start],arr[high]=arr[high],arr[start] #swap pivot and end\n",
    "    return high\n",
    "    \n",
    "\n",
    "\n",
    "#quick sort recursively\n",
    "def quick_sort(arr,low,high):\n",
    "    if low<high: #there are elements more than 1\n",
    "        loc=partitioning(arr,low,high) #return the current location of the pivot\n",
    "        quick_sort(arr,low,loc-1) #sort the elements less than pivot\n",
    "        quick_sort(arr,loc+1,high) # sort the elements greater than the pivot\n",
    "        \n",
    "        \n",
    "        \n",
    "arr=[13,70,21,10,90,2]\n",
    "quick_sort(arr,0,len(arr)-1)\n",
    "print(arr)\n",
    "\n",
    "        \n",
    "    \n",
    "    "
   ]
  },
  {
   "cell_type": "code",
   "execution_count": 74,
   "id": "b0d512c8",
   "metadata": {},
   "outputs": [
    {
     "name": "stdout",
     "output_type": "stream",
     "text": [
      "7\n",
      "5\n"
     ]
    }
   ],
   "source": [
    "x=5\n",
    "y=7\n",
    "x,y=y,x\n",
    "print(x)\n",
    "print(y)"
   ]
  }
 ],
 "metadata": {
  "kernelspec": {
   "display_name": "Python 3 (ipykernel)",
   "language": "python",
   "name": "python3"
  },
  "language_info": {
   "codemirror_mode": {
    "name": "ipython",
    "version": 3
   },
   "file_extension": ".py",
   "mimetype": "text/x-python",
   "name": "python",
   "nbconvert_exporter": "python",
   "pygments_lexer": "ipython3",
   "version": "3.9.7"
  }
 },
 "nbformat": 4,
 "nbformat_minor": 5
}
