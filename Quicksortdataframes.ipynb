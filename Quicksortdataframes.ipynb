{
 "cells": [
  {
   "cell_type": "code",
   "execution_count": null,
   "id": "931dba83",
   "metadata": {},
   "outputs": [],
   "source": [
    "def partitioning(df,startIndex,endIndex,asc,costfn):\n",
    "    #print(\"alaa\"+costfn)\n",
    "    pivot=df[costfn].loc[startIndex]\n",
    "    low=startIndex+1\n",
    "    high=endIndex\n",
    "    
    "    while high>low: #while not done\n",
    "        #print(f\"ele={df[costfn].loc[low]}\")\n",
    "        while df[costfn].loc[low]<pivot and low<endIndex: #move next right\n",
    "            low+=1\n",
    "           
    "        while df[costfn].loc[high]>pivot:#move to next left\n",
    "            high-=1\n",
    "           
    "        if high>low: #check stop points to swap \"indices\"\n",
    "            temp=df[low-1:low].copy()\n",
    "            df[low-1:low]=df[high-1:high]\n",
    "            df[high-1:high]=temp\n",
    "            low+=1\n",
    "            high-=1\n",
    "           
    "            \n",
    "    #swap pivot and end\n",
    "    if pivot>df[costfn].loc[high]:\n",
    "        temp1=df[startIndex-1:startIndex].copy()\n",
    "        df[startIndex-1:startIndex]=df[high-1:high].copy()\n",
    "        df[high-1:high]=temp1.copy()\n",
    "       \n",
    "       \n",
    "    return high\n",
    "    \n",
    "\n",
    "\n",
    "#quick sort recursively\n",
    "def quick_sort(df,startIndex,endIndex,asc,costfn):\n",
    "    if startIndex<endIndex: #there are elements more than 1\n",
    "        loc=partitioning(df,startIndex,endIndex,asc,costfn) #return the current location of the pivot\n",
    "        
    "        quick_sort(df,startIndex,loc-1,asc,costfn) #sort the elements less than pivot\n",
    "        quick_sort(df,loc+1,endIndex,asc,costfn) # sort the elements greater than the pivot\n",
    "   \n",
    "        "
   ]
  },
  {
   "cell_type": "code",
   "execution_count": null,
   "id": "bd406b47",
   "metadata": {},
   "outputs": [],
   "source": [
    
   ]
  },
  {
   "cell_type": "code",
   "execution_count": null,
   "id": "004e5796",
   "metadata": {},
   "outputs": [],
   "source": [
    "#reverse a dataframe\n",
    "#df=df.iloc[::-1]\n",
    "#df.head(7)"
   ]
  },
  {
   "cell_type": "code",
   "execution_count": null,
   "id": "a6c2f54a",
   "metadata": {},
   "outputs": [],
   "source": []
  }
 ],
 "metadata": {
  "kernelspec": {
   "display_name": "Python 3 (ipykernel)",
   "language": "python",
   "name": "python3"
  },
  "language_info": {
   "codemirror_mode": {
    "name": "ipython",
    "version": 3
   },
   "file_extension": ".py",
   "mimetype": "text/x-python",
   "name": "python",
   "nbconvert_exporter": "python",
   "pygments_lexer": "ipython3",
   "version": "3.9.7"
  }
 },
 "nbformat": 4,
 "nbformat_minor": 5
}
