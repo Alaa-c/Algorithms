{
 "cells": [
  {
   "cell_type": "code",
   "execution_count": 2,
   "id": "947d3982",
   "metadata": {},
   "outputs": [],
   "source": [
    "import ipynb.fs.full.StackQueue as sq\n",
    "import networkx as nx\n",
    "import matplotlib.pyplot as plt"
   ]
  },
  {
   "cell_type": "code",
   "execution_count": 19,
   "id": "121e5b4c",
   "metadata": {},
   "outputs": [
    {
     "name": "stdout",
     "output_type": "stream",
     "text": [
      "a['b']\n",
      "['b', 'c']\n",
      "['b', 'c', 'e']\n",
      "e['b', 'c', 'd']\n",
      "['b', 'c', 'd', 'c']\n",
      "c['b', 'c', 'd', 'd']\n",
      "['b', 'c', 'd', 'd', 'f']\n",
      "fd['b', 'c', 'd', 'b']\n",
      "bdcb['a', 'e', 'c', 'f', 'd', 'b']\n"
     ]
    },
    {
     "data": {
      "image/png": "[encoded data removed]",
      "text/plain": [
       "<Figure size 432x288 with 1 Axes>"
      ]
     },
     "metadata": {},
     "output_type": "display_data"
    }
   ],
   "source": [
    "def DFS_iter(graph,s):\n",
    "    s1=sq.stack()\n",
    "    s1.push(s)\n",
    "    visited=[]\n",
    "    while len(s1.items)!=0:\n",
    "        vertex=s1.pop()\n",
    "        print(vertex,end=\"\")\n",
    "        if vertex in visited:\n",
    "            continue\n",
    "        visited.append(vertex)\n",
    "        for neighbor in graph[vertex]:\n",
    "            if neighbor not in visited:\n",
    "                s1.push(neighbor)\n",
    "                print(s1.items)\n",
    "    return visited\n",
    "        \n",
    "G={\"a\":[\"b\",\"c\",\"e\"],\"b\":[\"a\",\"d\"],\"c\":[\"a\",\"d\",\"e\",\"f\"],\"d\":[\"b\",\"c\",\"e\"],\"e\":[\"a\",\"d\",\"c\"],\"f\":[\"c\"]} \n",
    "H=nx.Graph(G)\n",
    "nx.draw(H,with_labels=True)\n",
    "\n",
    "\n",
    "v=DFS_iter(G,'a')\n",
    "print(v)"
   ]
  },
  {
   "cell_type": "code",
   "execution_count": 20,
   "id": "9fb9128f",
   "metadata": {},
   "outputs": [
    {
     "name": "stdout",
     "output_type": "stream",
     "text": [
      "a b c e d f ['a', 'b', 'c', 'e', 'd', 'f']\n"
     ]
    }
   ],
   "source": [
    "q=sq.queue()\n",
    "def BFS(graph,v,visited=[]):\n",
    "    visited.append(v)\n",
    "    q.enqueue(v)\n",
    "    while len(q.items)!=0:\n",
    "        vertex=q.dequeue()\n",
    "        print(vertex,end =\" \")\n",
    "        for neighbor in graph[vertex]:\n",
    "            if neighbor not in visited:\n",
    "                visited.append(neighbor)\n",
    "                q.enqueue(neighbor)\n",
    "    return visited\n",
    "v=BFS(G,'a')\n",
    "print(v)\n",
    "    "
   ]
  },
  {
   "cell_type": "code",
   "execution_count": 21,
   "id": "f2c8e880",
   "metadata": {},
   "outputs": [
    {
     "name": "stdout",
     "output_type": "stream",
     "text": [
      "abdcef['a', 'b', 'd', 'c', 'e', 'f']\n"
     ]
    }
   ],
   "source": [
    "s=sq.stack()\n",
    "def DFS_rec(graph,v,visited=[]):\n",
    "    s.push(v)\n",
    "    while len(s.items)!=0:\n",
    "        vertex=s.pop()\n",
    "        print(vertex,end=\"\")\n",
    "        if vertex in visited:\n",
    "            continue\n",
    "        visited.append(vertex)\n",
    "\n",
    "        for neighbor in graph[vertex]:\n",
    "            if neighbor not in visited:\n",
    "                 DFS_rec(graph, neighbor, visited)\n",
    "\n",
    "        return visited\n",
    "print(DFS_rec(G,'a'))"
   ]
  },
  {
   "cell_type": "code",
   "execution_count": null,
   "id": "9ae3f33b",
   "metadata": {},
   "outputs": [],
   "source": []
  },
  {
   "cell_type": "code",
   "execution_count": null,
   "id": "d0a31e0f",
   "metadata": {},
   "outputs": [],
   "source": []
  }
 ],
 "metadata": {
  "kernelspec": {
   "display_name": "Python 3 (ipykernel)",
   "language": "python",
   "name": "python3"
  },
  "language_info": {
   "codemirror_mode": {
    "name": "ipython",
    "version": 3
   },
   "file_extension": ".py",
   "mimetype": "text/x-python",
   "name": "python",
   "nbconvert_exporter": "python",
   "pygments_lexer": "ipython3",
   "version": "3.9.7"
  }
 },
 "nbformat": 4,
 "nbformat_minor": 5
}
