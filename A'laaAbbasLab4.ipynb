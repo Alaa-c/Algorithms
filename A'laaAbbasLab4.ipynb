{
 "cells": [
  {
   "cell_type": "markdown",
   "id": "af497323",
   "metadata": {},
   "source": [
    "# q1"
   ]
  },
  {
   "cell_type": "code",
   "execution_count": 42,
   "id": "b2e28edc",
   "metadata": {},
   "outputs": [
    {
     "name": "stdout",
     "output_type": "stream",
     "text": [
      "file extention added\n"
     ]
    }
   ],
   "source": [
    "import os\n",
    "\n",
    "inp='alaa.html txt'\n",
    "oldname=inp.split()[0]\n",
    "filename=os.path.splitext(inp)[0] #split the root of file\n",
    "newExtention=inp.split()[1] #split on white space to get new extention\n",
    "\n",
    "#rename the file with the new extention\n",
    "os.rename(oldname,filename+'.'+newExtention)\n",
    "\n",
    "#check if file exists\n",
    "if os.path.exists('alaa.txt'):\n",
    "    print('file extention added')\n",
    "\n",
    "\n"
   ]
  },
  {
   "cell_type": "code",
   "execution_count": null,
   "id": "19dd1aec",
   "metadata": {},
   "outputs": [],
   "source": [
    "import os\n",
    "\n",
    "inp=input()\n",
    "oldname=inp.split()[0]\n",
    "filename=os.path.splitext(inp)[0] #split the root of file\n",
    "newExtention=inp.split()[1] #split on white space to get new extention\n",
    "\n",
    "#create a new file with extention specified\n",
    "new_name=filename+'.'+newExtention\n",
    "\n",
    "with open(oldname,'r') as oldfile,  open(new_name,'w+') as newfile:\n",
    "    for line in oldfile:\n",
    "      newfile.write(line)\n",
    "\n",
    "\n",
    "#check if file exists\n",
    "if os.path.exists('alaa.html'):\n",
    "    print('file extention added')\n",
    "\n",
    "\n"
   ]
  },
  {
   "cell_type": "code",
   "execution_count": null,
   "id": "933f58a1",
   "metadata": {},
   "outputs": [],
   "source": [
    "import os\n",
    "\n",
    "path=input(\"Enter the file path you want to check: \")\n",
    "try: #open the file to check if it throws an error or not\n",
    "    file=open(path,'r')\n",
    "except FileNotFoundError:#in case it doesn't exist\n",
    "    print('File not found')\n",
    "else: #if it doesn't throw an error ,print found\n",
    "    print('file is found')\n",
    "finally:\n",
    "    file.close()\n",
    "    "
   ]
  },
  {
   "cell_type": "markdown",
   "id": "dc1f3440",
   "metadata": {},
   "source": [
    "# q3\n"
   ]
  },
  {
   "cell_type": "code",
   "execution_count": null,
   "id": "12f10fa4",
   "metadata": {},
   "outputs": [],
   "source": [
    "import json\n",
    "\n",
    "samplejson={\"id\":1,\"name\":\"value2\",\"age\":29}\n",
    "#sort the dict and save it in json file\n",
    "Jobj=json.dumps(samplejson,indent=5,sort_keys=True)#sort dict and convert it to json string\n",
    "print(type(Jobj))\n",
    "\n",
    "#write in json file\n",
    "with open('Jfile.json','w') as Jfile:\n",
    "    json.dump(Jobj,Jfile)\n",
    "    \n",
    "#check for json file and print it\n",
    "with open('Jfile.json','r') as file:\n",
    "    print(json.load(file))"
   ]
  },
  {
   "cell_type": "markdown",
   "id": "7ed19ae1",
   "metadata": {},
   "source": [
    "# q4"
   ]
  },
  {
   "cell_type": "code",
   "execution_count": 25,
   "id": "64aaa0b2",
   "metadata": {},
   "outputs": [
    {
     "name": "stdout",
     "output_type": "stream",
     "text": [
      "name1\n",
      "None\n"
     ]
    }
   ],
   "source": [
    "import json\n",
    "samplejson=\"\"\"[\n",
    "     {\n",
    "      \"id\":1,\n",
    "      \"name\":\"name1\",\n",
    "       \"color\":[\"red\",\"green\"]\n",
    "     },\n",
    "     {\n",
    "        \"id\":2,\n",
    "        \"name\":\"name2\",\n",
    "        \"color\":[\"pink\",\"yellow\"]   \n",
    "    }\n",
    "  ]\"\"\"\n",
    "\n",
    "#parse json to get keyvalues\n",
    "#convert json string to python dict\n",
    "sampleDict=json.loads(samplejson)\n",
    "array=[]\n",
    "try:\n",
    "    for dicti in sampleDict:\n",
    "        array.append(dicti.get('name'))\n",
    "    \n",
    "except Exception as e:\n",
    "    print(e)\n",
    "    \n",
    "    \n",
    "else: #print array of names if existing\n",
    "    for i in array:\n",
    "        print(i)\n",
    "    \n"
   ]
  },
  {
   "cell_type": "markdown",
   "id": "bd230418",
   "metadata": {},
   "source": [
    "# q5"
   ]
  },
  {
   "cell_type": "code",
   "execution_count": 33,
   "id": "804021eb",
   "metadata": {},
   "outputs": [
    {
     "name": "stdout",
     "output_type": "stream",
     "text": [
      "['No', 'Name', 'country']\n",
      "[]\n",
      "['1', 'alex', 'india']\n",
      "[]\n",
      "['2', 'ben', 'usa']\n",
      "[]\n",
      "['3', 'shosho', 'india']\n",
      "[]\n",
      "['4', 'smith', 'usa']\n",
      "[]\n",
      "['5', 'yuva', 'india']\n",
      "[]\n"
     ]
    }
   ],
   "source": [
    "import csv\n",
    "\n",
    "dict_data=[{'No':1,'Name':'alex','country':'india'},\n",
    "           {'No':2,'Name':'ben','country':'usa'},\n",
    "           {'No':3,'Name':'shosho','country':'india'},\n",
    "           {'No':4,'Name':'smith','country':'usa'}, \n",
    "           {'No':5,'Name':'yuva','country':'india'},\n",
    "]\n",
    "\n",
    "#write in csv file names.csv\n",
    "header=['No','Name','country']\n",
    "with open('Names.csv','w+') as cfile:\n",
    "    writerObj=csv.DictWriter(cfile,header) #create obj from dict writer\n",
    "    writerObj.writeheader()\n",
    "    writerObj.writerows(dict_data)\n",
    "\n",
    "#read file to check\n",
    "with open('Names.csv','r') as read:\n",
    "    readobj=csv.reader(read)\n",
    "    for lines in readobj:\n",
    "       print(lines)"
   ]
  }
 ],
 "metadata": {
  "kernelspec": {
   "display_name": "Python 3 (ipykernel)",
   "language": "python",
   "name": "python3"
  },
  "language_info": {
   "codemirror_mode": {
    "name": "ipython",
    "version": 3
   },
   "file_extension": ".py",
   "mimetype": "text/x-python",
   "name": "python",
   "nbconvert_exporter": "python",
   "pygments_lexer": "ipython3",
   "version": "3.9.7"
  }
 },
 "nbformat": 4,
 "nbformat_minor": 5
}
