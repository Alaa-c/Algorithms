{
 "cells": [
  {
   "cell_type": "code",
   "execution_count": 3,
   "id": "8135cf38",
   "metadata": {},
   "outputs": [],
   "source": [
    "import numpy as np\n",
    "import pandas as pd"
   ]
  },
  {
   "cell_type": "code",
   "execution_count": 25,
   "id": "0704b49d",
   "metadata": {},
   "outputs": [],
   "source": [
    "value=np.array([1,2,5,6])\n",
    "weights=np.array([2,3,4,5])\n",
    "Wmax=8\n",
    "\n",
    "\n"
   ]
  },
  {
   "cell_type": "code",
   "execution_count": 92,
   "id": "aa1a093c",
   "metadata": {},
   "outputs": [],
   "source": [
    "def dpk(value,weights,Wmax): #obj for rows,wi for columns\n",
    "    profits=np.zeros((len(weights)+1,Wmax+1),int) #create empty 2d array\n",
    "    print(profits)\n",
    "    for obj in range(len(weights)+1):\n",
    "        for wi in range(Wmax+1):\n",
    "            if obj==0 or wi==0:\n",
    "                profits[obj][wi]=0\n",
    "           \n",
    "            elif weights.loc[obj-1]<=wi:\n",
    "                profits[obj][wi]=max(profits[obj-1][wi],value.loc[obj-1]+profits[obj-1][wi-weights.loc[obj-1]])\n",
    "            else:\n",
    "                profits[obj][wi]=profits[obj-1][wi]\n",
    "                \n",
    "    return profits[len(weights)][Wmax]\n",
    "                \n",
    "            \n",
    "            "
   ]
  },
  {
   "cell_type": "code",
   "execution_count": 66,
   "id": "26a2313a",
   "metadata": {},
   "outputs": [],
   "source": [
    "#print(dpk(value,weights,Wmax))"
   ]
  },
  {
   "cell_type": "code",
   "execution_count": 90,
   "id": "5718aea1",
   "metadata": {},
   "outputs": [
    {
     "name": "stdout",
     "output_type": "stream",
     "text": [
      "   object  profit  weight\n",
      "0       1       5       1\n",
      "1       2      10       3\n",
      "2       3      15       5\n",
      "3       4       7       4\n",
      "4       5       8       1\n",
      "5       6       9       3\n",
      "6       7       4       2\n",
      "3\n"
     ]
    }
   ],
   "source": [
    "df=pd.read_csv('./Downloads/input.csv')\n",
    "print(df.head(7))\n",
    "print(df['weight'].loc[1])"
   ]
  },
  {
   "cell_type": "code",
   "execution_count": 93,
   "id": "29661d8d",
   "metadata": {},
   "outputs": [
    {
     "name": "stdout",
     "output_type": "stream",
     "text": [
      "[[0 0 0 0 0 0 0 0 0 0 0 0 0 0 0 0]\n",
      " [0 0 0 0 0 0 0 0 0 0 0 0 0 0 0 0]\n",
      " [0 0 0 0 0 0 0 0 0 0 0 0 0 0 0 0]\n",
      " [0 0 0 0 0 0 0 0 0 0 0 0 0 0 0 0]\n",
      " [0 0 0 0 0 0 0 0 0 0 0 0 0 0 0 0]\n",
      " [0 0 0 0 0 0 0 0 0 0 0 0 0 0 0 0]\n",
      " [0 0 0 0 0 0 0 0 0 0 0 0 0 0 0 0]\n",
      " [0 0 0 0 0 0 0 0 0 0 0 0 0 0 0 0]]\n"
     ]
    },
    {
     "data": {
      "text/plain": [
       "51"
      ]
     },
     "execution_count": 93,
     "metadata": {},
     "output_type": "execute_result"
    }
   ],
   "source": [
    "dpk(df['profit'],df['weight'],15)"
   ]
  },
  {
   "cell_type": "code",
   "execution_count": null,
   "id": "d61127a2",
   "metadata": {},
   "outputs": [],
   "source": []
  }
 ],
 "metadata": {
  "kernelspec": {
   "display_name": "Python 3 (ipykernel)",
   "language": "python",
   "name": "python3"
  },
  "language_info": {
   "codemirror_mode": {
    "name": "ipython",
    "version": 3
   },
   "file_extension": ".py",
   "mimetype": "text/x-python",
   "name": "python",
   "nbconvert_exporter": "python",
   "pygments_lexer": "ipython3",
   "version": "3.9.7"
  }
 },
 "nbformat": 4,
 "nbformat_minor": 5
}
